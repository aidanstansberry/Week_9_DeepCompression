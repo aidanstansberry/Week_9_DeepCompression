{
 "cells": [
  {
   "cell_type": "markdown",
   "metadata": {},
   "source": [
    "# Exercise Week 9: Pruning and Quantization\n",
    "This week, we will explore some of the ideas discussed in Han, Mao, and Dally's Deep Compression.  In particular, we will implement weight pruning with fine tuning, as well as k-means weight quantization.  **Note that we will unfortunately not be doing this in a way that will actually lead to substantial efficiency gains: that would involve the use of sparse matrices which are not currently well-supported in pytorch.** \n",
    "\n",
    "## Training an MNIST classifier\n",
    "For this example, we'll work with a basic multilayer perceptron with a single hidden layer.  We will train it on the MNIST dataset so that it can classify handwritten digits.  As usual we load the data:"
   ]
  },
  {
   "cell_type": "code",
   "execution_count": 2,
   "metadata": {},
   "outputs": [],
   "source": [
    "import torch\n",
    "import torchvision.transforms as transforms\n",
    "import torchvision.datasets as datasets\n",
    "\n",
    "device = torch.device('cuda' if torch.cuda.is_available() else \"cpu\")\n",
    "\n",
    "train_dataset = datasets.MNIST(root='./data', train=True, transform=transforms.ToTensor(), download=True)\n",
    "test_dataset = datasets.MNIST(root='./data', train=False, transform=transforms.ToTensor())\n",
    "\n",
    "batch_size = 300\n",
    "train_loader = torch.utils.data.DataLoader(dataset=train_dataset, batch_size=batch_size, shuffle=True)\n",
    "test_loader = torch.utils.data.DataLoader(dataset=test_dataset, batch_size=batch_size, shuffle=False)"
   ]
  },
  {
   "cell_type": "markdown",
   "metadata": {},
   "source": [
    "Then define a model:"
   ]
  },
  {
   "cell_type": "code",
   "execution_count": 23,
   "metadata": {},
   "outputs": [],
   "source": [
    "class MultilayerPerceptron(torch.nn.Module):\n",
    "    def __init__(self, input_dim, hidden_dim, output_dim,mask=None):\n",
    "        super(MultilayerPerceptron, self).__init__()\n",
    "        if not mask:\n",
    "            self.mask = torch.nn.Parameter(torch.ones(input_dim,hidden_dim),requires_grad=False)\n",
    "        else:\n",
    "            self.mask = torch.nn.Parameter(mask)\n",
    "\n",
    "        self.W_0 = torch.nn.Parameter(1e-3*torch.randn(input_dim,hidden_dim)*self.mask,requires_grad=True)\n",
    "        self.b_0 = torch.nn.Parameter(torch.zeros(hidden_dim),requires_grad=True)\n",
    "\n",
    "        self.W_1 = torch.nn.Parameter(1e-3*torch.randn(hidden_dim,output_dim),requires_grad=True)\n",
    "        self.b_1 = torch.nn.Parameter(torch.zeros(output_dim),requires_grad=True)\n",
    "        \n",
    "    def set_mask(self,mask):\n",
    "        \n",
    "        self.mask.data = mask.data\n",
    "        self.W_0.data = self.mask.data*self.W_0.data\n",
    "\n",
    "    def forward(self, x):\n",
    "        hidden = torch.tanh(x@(self.W_0*self.mask) + self.b_0)\n",
    "        outputs = hidden@self.W_1 + self.b_1\n",
    "        return outputs\n"
   ]
  },
  {
   "cell_type": "markdown",
   "metadata": {},
   "source": [
    "Note that the above code is a little bit different than a standard multilayer perceptron implementation.\n",
    "\n",
    "### Q1: What does this model have the capability of doing that a \"Vanilla\" MLP does not.  Why might we want this functionality for studying pruning?\n",
    "\n",
    "##### Answer\n",
    "You have the ability to turn on or off weights that that are not needed. In other words the mask is currently a tensor full of ones. So elementwise multiplication of the weights does not remove any weights. If we change elementes in the mask to zero, we have a way of effectivly setting weights to zero within the MLP.\n",
    "\n",
    "\n",
    "\n",
    "Let's first train this model without utilizing this extra functionality.  You can set the hidden layer size to whatever you'd like when instantiating the model:"
   ]
  },
  {
   "cell_type": "code",
   "execution_count": 24,
   "metadata": {},
   "outputs": [],
   "source": [
    "n_epochs = 10\n",
    "\n",
    "input_dim = 784\n",
    "hidden_dim = 64\n",
    "output_dim = 10\n",
    "\n",
    "model = MultilayerPerceptron(input_dim,hidden_dim,output_dim)\n",
    "model = model.to(device)\n",
    "\n",
    "criterion = torch.nn.CrossEntropyLoss() # computes softmax and then the cross entropy\n",
    "lr_rate = 0.001\n",
    "optimizer = torch.optim.Adam(model.parameters(), lr=lr_rate, weight_decay=1e-3)"
   ]
  },
  {
   "cell_type": "markdown",
   "metadata": {},
   "source": [
    "And then training proceeds as normal."
   ]
  },
  {
   "cell_type": "code",
   "execution_count": 25,
   "metadata": {},
   "outputs": [
    {
     "name": "stdout",
     "output_type": "stream",
     "text": [
      "Iteration: 0. Loss: 0.41548487544059753. Accuracy: 90.\n",
      "Iteration: 1. Loss: 0.34457167983055115. Accuracy: 92.\n",
      "Iteration: 2. Loss: 0.2686581611633301. Accuracy: 93.\n",
      "Iteration: 3. Loss: 0.20769262313842773. Accuracy: 94.\n",
      "Iteration: 4. Loss: 0.2652377486228943. Accuracy: 94.\n",
      "Iteration: 5. Loss: 0.18059997260570526. Accuracy: 94.\n",
      "Iteration: 6. Loss: 0.12396704405546188. Accuracy: 95.\n",
      "Iteration: 7. Loss: 0.15603581070899963. Accuracy: 95.\n",
      "Iteration: 8. Loss: 0.1408979594707489. Accuracy: 95.\n",
      "Iteration: 9. Loss: 0.12788546085357666. Accuracy: 95.\n"
     ]
    }
   ],
   "source": [
    "iter = 0\n",
    "for epoch in range(n_epochs):\n",
    "    for i, (images, labels) in enumerate(train_loader):\n",
    "        images = images.view(-1, 28 * 28).to(device)\n",
    "        labels = labels.to(device)\n",
    "\n",
    "        optimizer.zero_grad()\n",
    "        outputs = model(images)\n",
    "        loss = criterion(outputs, labels)\n",
    "        loss.backward()\n",
    "        optimizer.step()\n",
    "\n",
    "    # calculate Accuracy\n",
    "    correct = 0\n",
    "    total = 0\n",
    "    for images, labels in test_loader:\n",
    "        images = images.view(-1, 28*28).to(device)\n",
    "        labels = labels.to(device)\n",
    "        outputs = model(images)\n",
    "        _, predicted = torch.max(outputs.data, 1)\n",
    "        total+= labels.size(0)\n",
    "                # for gpu, bring the predicted and labels back to cpu fro python operations to work\n",
    "        correct+= (predicted == labels).sum()\n",
    "    accuracy = 100 * correct/total\n",
    "    print(\"Iteration: {}. Loss: {}. Accuracy: {}.\".format(epoch, loss.item(), accuracy))\n",
    "torch.save(model.state_dict(),'mnist_pretrained.h5')\n"
   ]
  },
  {
   "cell_type": "markdown",
   "metadata": {},
   "source": [
    "## Pruning\n",
    "\n",
    "Certainly not a state of the art model, but also not a terrible one.  Because we're hoping to do some weight pruning, let's inspect some of the weights directly (recall that we can act like they're images)"
   ]
  },
  {
   "cell_type": "code",
   "execution_count": 26,
   "metadata": {},
   "outputs": [
    {
     "data": {
      "image/png": "[encoded data removed]",
      "text/plain": [
       "<Figure size 432x288 with 1 Axes>"
      ]
     },
     "metadata": {
      "needs_background": "light"
     },
     "output_type": "display_data"
    }
   ],
   "source": [
    "import matplotlib.pyplot as plt\n",
    "W_0 = model.W_0.detach().cpu().numpy()\n",
    "plt.imshow(W_0[:,1].reshape((28,28)))\n",
    "plt.show()"
   ]
  },
  {
   "cell_type": "markdown",
   "metadata": {},
   "source": [
    "### Q2: Based on the above image, what weights might reasonably be pruned (i.e. explicitly forced to be zero)?\n",
    "\n",
    "##### Answer\n",
    "The weights around the edge of the domain, where the pixels appear to all be about the same value. This do no appear to be important in solving this problem.\n",
    "\n",
    "### Q3: Implement some means of establishing a threshold for the (absolute value of the) weights, below which they are set to zero.  Using this method, create a mask array.     "
   ]
  },
  {
   "cell_type": "code",
   "execution_count": 30,
   "metadata": {},
   "outputs": [
    {
     "name": "stdout",
     "output_type": "stream",
     "text": [
      "Parameter containing:\n",
      "tensor([[1., 1., 1.,  ..., 1., 1., 1.],\n",
      "        [1., 1., 1.,  ..., 1., 1., 1.],\n",
      "        [1., 1., 1.,  ..., 1., 1., 1.],\n",
      "        ...,\n",
      "        [1., 1., 1.,  ..., 1., 1., 1.],\n",
      "        [1., 1., 1.,  ..., 1., 1., 1.],\n",
      "        [1., 1., 1.,  ..., 1., 1., 1.]])\n",
      "Parameter containing:\n",
      "tensor([[0., 0., 0.,  ..., 0., 0., 0.],\n",
      "        [0., 0., 0.,  ..., 0., 0., 0.],\n",
      "        [0., 0., 0.,  ..., 0., 0., 0.],\n",
      "        ...,\n",
      "        [0., 0., 0.,  ..., 0., 0., 0.],\n",
      "        [0., 0., 0.,  ..., 0., 0., 0.],\n",
      "        [0., 0., 0.,  ..., 0., 0., 0.]])\n",
      "tensor(1.) tensor(0.)\n",
      "tensor(0.0601)\n"
     ]
    }
   ],
   "source": [
    "new_mask = model.mask\n",
    "weights = model.W_0\n",
    "new_mask[(abs(weights)>-1)] = 1. #reset the mask\n",
    "total_weights = torch.sum(new_mask)\n",
    "print(model.mask)\n",
    "new_mask[(abs(weights)<.09)] = 0 #arbitrary cutoff point\n",
    "print(model.mask)\n",
    "print(new_mask.max(), new_mask.min()) #make sure I'm turning on and off some labels\n",
    "print(torch.sum(new_mask)/total_weights) #fraction of remaining weights"
   ]
  },
  {
   "cell_type": "markdown",
   "metadata": {},
   "source": [
    "Now that we have a mask that explicitly establishes a sparsity pattern for our model, let's update our model with this mask:"
   ]
  },
  {
   "cell_type": "code",
   "execution_count": 31,
   "metadata": {},
   "outputs": [],
   "source": [
    "model.set_mask(new_mask)"
   ]
  },
  {
   "cell_type": "markdown",
   "metadata": {},
   "source": [
    "Now, we have explicitly set some entries in one of the the weight matrices to zero, and ensured via the mask, that they will not be updated by gradient descent.  Fine tune the model: "
   ]
  },
  {
   "cell_type": "code",
   "execution_count": 32,
   "metadata": {},
   "outputs": [
    {
     "name": "stdout",
     "output_type": "stream",
     "text": [
      "Iteration: 0. Loss: 0.18822796642780304. Accuracy: 94.\n",
      "Iteration: 0. Loss: 0.26867660880088806. Accuracy: 94.\n",
      "Iteration: 0. Loss: 0.19309568405151367. Accuracy: 95.\n",
      "Iteration: 0. Loss: 0.2145838737487793. Accuracy: 95.\n",
      "Iteration: 0. Loss: 0.13824479281902313. Accuracy: 95.\n",
      "Iteration: 0. Loss: 0.1683703511953354. Accuracy: 95.\n",
      "Iteration: 0. Loss: 0.13571622967720032. Accuracy: 95.\n",
      "Iteration: 0. Loss: 0.20217075943946838. Accuracy: 95.\n",
      "Iteration: 0. Loss: 0.1596449613571167. Accuracy: 95.\n",
      "Iteration: 0. Loss: 0.14204254746437073. Accuracy: 95.\n"
     ]
    }
   ],
   "source": [
    "iter = 0\n",
    "for epoch in range(n_epochs):\n",
    "    for i, (images, labels) in enumerate(train_loader):\n",
    "        images = images.view(-1, 28 * 28).to(device)\n",
    "        labels = labels.to(device)\n",
    "\n",
    "        optimizer.zero_grad()\n",
    "        outputs = model(images)\n",
    "        loss = criterion(outputs, labels)\n",
    "        loss.backward()\n",
    "        optimizer.step()\n",
    "\n",
    "    # calculate Accuracy\n",
    "    correct = 0\n",
    "    total = 0\n",
    "    for images, labels in test_loader:\n",
    "        images = images.view(-1, 28*28).to(device)\n",
    "        labels = labels.to(device)\n",
    "        outputs = model(images)\n",
    "        _, predicted = torch.max(outputs.data, 1)\n",
    "        total+= labels.size(0)\n",
    "                # for gpu, bring the predicted and labels back to cpu fro python operations to work\n",
    "        correct+= (predicted == labels).sum()\n",
    "    accuracy = 100 * correct/total\n",
    "    print(\"Iteration: {}. Loss: {}. Accuracy: {}.\".format(iter, loss.item(), accuracy))\n",
    "torch.save(model.state_dict(),'mnist_pruned.h5')"
   ]
  },
  {
   "cell_type": "markdown",
   "metadata": {},
   "source": [
    "### Q4: How much accuracy did you lose by pruning the model?  How much \"compression\" did you achieve (here defined as total entries in W_0 divided by number of non-zero entries)?  \n",
    "\n",
    "##### Answer\n",
    "NOTE: This description was relevant for a previous run of the notebook, results have changed slightly with secondary run.\n",
    "\n",
    "For the first experiment, I set threshold that the absolute value of the weight must be greater than 1e-12. This choice was arbitrary, but at least removed the edge weights which were around 1e-32. I enjoyed an accuracy increase from 95 to 96 percent. 82% weights remain\n",
    "\n",
    "I then changes my threshold to the absolute value greater than 1e-5, and continued to achieve gains from the network up to 97 percent. 77% weights remain\n",
    "\n",
    "I then changes my threshold to the absolute value greater than 1e-3, and continued to achieve gains from the network up to 97 percent. 72% weights remain\n",
    "\n",
    "I then changed my threshold to the absolute value greater than .05 to be more aggresive, and continued to have a very functional network at 97 percent accuracy. 17% weights remain\n",
    "\n",
    "I then changed my threshold to the absolute value greater than .15 to be more aggresive, and continued to have a very functional network accuracy but accurace is starting to degrade. Interestingly enough, the network accuracy initially dropped to 91 percent then it retrainted to 94 percent accuracy. 1.5% weights remain\n",
    "\n",
    "### Q5: Explore a few different thresholds: approximately how many weights can you prune before accuracy starts to degrade?\n",
    "\n",
    "The network is remarkably functional even with 98.5% of the weights removed. This is quite remarkable. This means that after initial training, only a few percent of the weights are actually necessary to classify mnist. See picture below for some 94% accuracy weights. "
   ]
  },
  {
   "cell_type": "code",
   "execution_count": 34,
   "metadata": {},
   "outputs": [
    {
     "data": {
      "image/png": "[encoded data removed]",
      "text/plain": [
       "<Figure size 432x288 with 1 Axes>"
      ]
     },
     "metadata": {
      "needs_background": "light"
     },
     "output_type": "display_data"
    }
   ],
   "source": [
    "W_0 = model.W_0.detach().cpu().numpy()\n",
    "plt.imshow(W_0[:,7].reshape((28,28)))\n",
    "plt.show()"
   ]
  },
  {
   "cell_type": "markdown",
   "metadata": {},
   "source": [
    "## Quantization\n",
    "\n",
    "Now that we have a pruned model that appears to be performing well, let's see if we can make it even smaller by quantization.  To do this, we'll need a slightly different neural network, one that corresponds to Figure 3 from the paper.  Instead of having a matrix of float values, we'll have a matrix of integer labels (here called \"labels\") that correspond to entries in a (hopefully) small codebook of centroids (here called \"centroids\").  The way that I've coded it, there's still a mask that enforces our desired sparsity pattern."
   ]
  },
  {
   "cell_type": "code",
   "execution_count": 35,
   "metadata": {},
   "outputs": [],
   "source": [
    "class MultilayerPerceptronQuantized(torch.nn.Module):\n",
    "    def __init__(self, input_dim, output_dim, hidden_dim,mask,labels,centroids):\n",
    "        super(MultilayerPerceptronQuantized, self).__init__()\n",
    "        self.mask = torch.nn.Parameter(mask,requires_grad=False)\n",
    "        self.labels = torch.nn.Parameter(labels,requires_grad=False)\n",
    "        self.centroids = torch.nn.Parameter(centroids,requires_grad=True)\n",
    "\n",
    "        self.b_0 = torch.nn.Parameter(torch.zeros(hidden_dim))\n",
    "\n",
    "        self.W_1 = torch.nn.Parameter(1e-3*torch.randn(hidden_dim,output_dim))\n",
    "        self.b_1 = torch.nn.Parameter(torch.zeros(output_dim))\n",
    "\n",
    "    def forward(self, x):\n",
    "        W_0 = self.mask*self.centroids[self.labels]\n",
    "        hidden = torch.tanh(x@W_0 + self.b_0)\n",
    "        outputs = hidden@self.W_1 + self.b_1\n",
    "        return outputs"
   ]
  },
  {
   "cell_type": "markdown",
   "metadata": {},
   "source": [
    "Notice what is happening in the forward method: W_0 is being reconstructed by using a matrix (self.labels) to index into a vector (self.centroids).  The beauty of automatic differentiation allows backpropogation through this sort of weird indexing operation, and thus gives us gradients of the objective function with respect to the centroid values!\n",
    "\n",
    "### Q6: However, before we are able to use this AD magic, we need to specify the static label matrix (and an initial guess for centroids).  Use the k-means algorithm (or something else if you prefer) figure out the label matrix and centroid vectors.  PROTIP1: I used scikit-learns implementation of k-means.  PROTIP2: only cluster the non-zero entries"
   ]
  },
  {
   "cell_type": "code",
   "execution_count": 69,
   "metadata": {},
   "outputs": [],
   "source": [
    "import numpy as np\n",
    "from sklearn.cluster import KMeans\n",
    "# convert weight and mask matrices into numpy arrays\n",
    "W_0 = model.W_0.detach().cpu().numpy()\n",
    "mask = model.mask.detach().cpu().numpy()\n",
    "\n",
    "# Figure out the indices of non-zero entries \n",
    "inds = np.where(mask!=0)\n",
    "\n",
    "# Figure out the values of non-zero entries\n",
    "vals = W_0[inds]\n",
    "\n",
    "### TODO: perform clustering on vals\n",
    "kmeans = KMeans(n_clusters = 1).fit(W_0)\n",
    "\n",
    "### TODO: turn the label matrix and centroids into a torch tensor\n",
    "\n",
    "labels = torch.tensor(kmeans.labels_, dtype=torch.long, device=device)\n",
    "centroids = torch.tensor(kmeans.cluster_centers_, device=device)"
   ]
  },
  {
   "cell_type": "markdown",
   "metadata": {},
   "source": [
    "Now, we can instantiate our quantized model and import the appropriate pre-trained weights for the other network layers.  "
   ]
  },
  {
   "cell_type": "code",
   "execution_count": 70,
   "metadata": {},
   "outputs": [],
   "source": [
    "# Instantiate quantized model\n",
    "model_q = MultilayerPerceptronQuantized(input_dim,output_dim,hidden_dim,new_mask,labels,centroids)\n",
    "model_q = model_q.to(device)\n",
    "\n",
    "# Copy pre-trained weights from unquantized model for non-quantized layers\n",
    "model_q.b_0.data = model.b_0.data\n",
    "model_q.W_1.data = model.W_1.data\n",
    "model_q.b_1.data = model.b_1.data"
   ]
  },
  {
   "cell_type": "markdown",
   "metadata": {},
   "source": [
    "Finally, we can fine tune the quantized model.  We'll adjust not only the centroids, but also the weights in the other layers."
   ]
  },
  {
   "cell_type": "code",
   "execution_count": 71,
   "metadata": {},
   "outputs": [
    {
     "name": "stdout",
     "output_type": "stream",
     "text": [
      "Iteration: 0. Loss: 0.4437963366508484. Accuracy: 88.\n",
      "Iteration: 0. Loss: 0.38359904289245605. Accuracy: 89.\n",
      "Iteration: 0. Loss: 0.43179452419281006. Accuracy: 89.\n",
      "Iteration: 0. Loss: 0.3722302317619324. Accuracy: 89.\n",
      "Iteration: 0. Loss: 0.3560977280139923. Accuracy: 89.\n",
      "Iteration: 0. Loss: 0.3747432231903076. Accuracy: 89.\n",
      "Iteration: 0. Loss: 0.3805023729801178. Accuracy: 89.\n",
      "Iteration: 0. Loss: 0.39596956968307495. Accuracy: 89.\n",
      "Iteration: 0. Loss: 0.39233332872390747. Accuracy: 89.\n",
      "Iteration: 0. Loss: 0.35189899802207947. Accuracy: 90.\n"
     ]
    }
   ],
   "source": [
    "optimizer = torch.optim.Adam(model_q.parameters(), lr=lr_rate, weight_decay=1e-3)\n",
    "iter = 0\n",
    "for epoch in range(n_epochs):\n",
    "    for i, (images, labels) in enumerate(train_loader):\n",
    "        images = images.view(-1, 28 * 28).to(device)\n",
    "        labels = labels.to(device)\n",
    "\n",
    "        optimizer.zero_grad()\n",
    "        outputs = model_q(images)\n",
    "        loss = criterion(outputs, labels)\n",
    "        loss.backward()\n",
    "        optimizer.step()\n",
    "\n",
    "    # calculate Accuracy\n",
    "    correct = 0\n",
    "    total = 0\n",
    "    for images, labels in test_loader:\n",
    "        images = images.view(-1, 28*28).to(device)\n",
    "        labels = labels.to(device)\n",
    "        outputs = model_q(images)\n",
    "        _, predicted = torch.max(outputs.data, 1)\n",
    "        total+= labels.size(0)\n",
    "                # for gpu, bring the predicted and labels back to cpu fro python operations to work\n",
    "        correct+= (predicted == labels).sum()\n",
    "    accuracy = 100 * correct/total\n",
    "    print(\"Iteration: {}. Loss: {}. Accuracy: {}.\".format(iter, loss.item(), accuracy))\n",
    "torch.save(model.state_dict(),'mnist_quantized.h5')"
   ]
  },
  {
   "cell_type": "markdown",
   "metadata": {},
   "source": [
    "After retraining, we can, just for fun, reconstruct the pruned and quantized weights and plot them as images:"
   ]
  },
  {
   "cell_type": "code",
   "execution_count": 72,
   "metadata": {},
   "outputs": [
    {
     "data": {
      "image/png": "[encoded data removed]",
      "text/plain": [
       "<Figure size 432x288 with 1 Axes>"
      ]
     },
     "metadata": {
      "needs_background": "light"
     },
     "output_type": "display_data"
    }
   ],
   "source": [
    "W_0 = (model_q.mask*model_q.centroids[model_q.labels]).detach().cpu().numpy()\n",
    "plt.imshow(W_0[:,45].reshape((28,28)))\n",
    "plt.show()"
   ]
  },
  {
   "cell_type": "markdown",
   "metadata": {},
   "source": [
    "Certainly a much more parsimonious representation.  The obvious question now becomes:\n",
    "\n",
    "### Q7: How low can you go?  How small can the centroid codebook be before we see a substantial degradation in test set accuracy?\n",
    "With 3 Centroids, accuracy degrades a little bit, by a few percent, but still is training to around 92 percent accuracy.\n",
    "\n",
    "With 2 Centroids, I start to see an accuracy decrease of around 5 percent to around 89 percent, which is still remarkably good. It may indicate that mnist is a very easy problem to solve in practice. \n",
    "\n",
    "Even with 1 centroid accuracy is 90 percent. This is quite interesting, apparently having a single centroid is still quite capable network. \n",
    "\n",
    "### Bonus question: Try establishing the sparsity pattern using a model that's only been trained for a single epoch, then fine tune the pruned model and quantize as normal.  How does this compare to pruning a model that has been fully trained?  "
   ]
  },
  {
   "cell_type": "code",
   "execution_count": null,
   "metadata": {},
   "outputs": [],
   "source": []
  }
 ],
 "metadata": {
  "kernelspec": {
   "display_name": "Python 3",
   "language": "python",
   "name": "python3"
  },
  "language_info": {
   "codemirror_mode": {
    "name": "ipython",
    "version": 3
   },
   "file_extension": ".py",
   "mimetype": "text/x-python",
   "name": "python",
   "nbconvert_exporter": "python",
   "pygments_lexer": "ipython3",
   "version": "3.7.3"
  }
 },
 "nbformat": 4,
 "nbformat_minor": 2
}
